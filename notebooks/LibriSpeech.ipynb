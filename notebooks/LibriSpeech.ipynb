{
  "cells": [
    {
      "source": [
        "import locale\n",
        "\n",
        "def getpreferredencoding(do_setlocale = True):\n",
        "    return \"UTF-8\"\n",
        "locale.getpreferredencoding = getpreferredencoding\n",
        "\n",
        "!pip install git+https://github.com/openai/whisper.git\n",
        "!pip install jiwer\n",
        "!pip install torchaudio"
      ],
      "cell_type": "code",
      "metadata": {
        "id": "5MVacXBb4IDa"
      },
      "execution_count": null,
      "outputs": []
    },
    {
      "source": [
        "import whisper\n",
        "import torchaudio\n",
        "import torch"
      ],
      "cell_type": "code",
      "metadata": {
        "id": "soMy525f4KNk"
      },
      "execution_count": null,
      "outputs": []
    },
    {
      "source": [
        "def transcribe_audio(audio_file_path, model_name=\"base.en\", device=\"cuda\" if torch.cuda.is_available() else \"cpu\"):\n",
        "    \"\"\"\n",
        "    Transcribes an audio file using the Whisper model.\n",
        "\n",
        "    Args:\n",
        "        audio_file_path (str): Path to the audio file.\n",
        "        model_name (str, optional): Name of the Whisper model to use. Defaults to \"base.en\".\n",
        "        device (str, optional): Device to run the model on (\"cuda\" or \"cpu\"). Defaults to \"cuda\" if available, else \"cpu\".\n",
        "\n",
        "    Returns:\n",
        "        str: The transcribed text.\n",
        "    \"\"\"\n",
        "\n",
        "    # Load the audio file\n",
        "    audio, sample_rate = torchaudio.load(audio_file_path)\n",
        "\n",
        "    # Check if audio has more than one channel and convert to mono if needed\n",
        "    if audio.shape[0] > 1:\n",
        "        audio = torch.mean(audio, dim=0, keepdim=True)\n",
        "\n",
        "    # Pad/trim and move to device\n",
        "    audio = whisper.pad_or_trim(audio.flatten()).to(device)\n",
        "    mel = whisper.log_mel_spectrogram(audio)\n",
        "\n",
        "    # Load the Whisper model\n",
        "    model = whisper.load_model(model_name, device=device)\n",
        "\n",
        "    # Set decoding options\n",
        "    options = whisper.DecodingOptions(language=\"en\", without_timestamps=True)\n",
        "\n",
        "    # Decode the audio\n",
        "    result = model.decode(mel, options)\n",
        "\n",
        "    return result[\"text\"]"
      ],
      "cell_type": "code",
      "metadata": {
        "id": "FbnLBV8X4Kr0"
      },
      "execution_count": null,
      "outputs": []
    },
    {
      "source": [
        "audio_file_path = \"WTFB2.mp4\"  # Replace with your audio file path\n",
        "DEVICE = \"cuda\" if torch.cuda.is_available() else \"cpu\""
      ],
      "cell_type": "code",
      "metadata": {
        "id": "jIDw5CCH4LW4"
      },
      "execution_count": null,
      "outputs": []
    },
    {
      "source": [
        "transcript = transcribe_audio(audio_file_path, device=DEVICE)\n",
        "print(transcript)\n",
        "\n",
        "# Save the transcript to a file\n",
        "with open(\"output.txt\", \"w\") as f:\n",
        "    f.write(transcript)"
      ],
      "cell_type": "code",
      "metadata": {
        "id": "qAdHwaGo4LrR"
      },
      "execution_count": null,
      "outputs": []
    }
  ],
  "metadata": {
    "accelerator": "GPU",
    "colab": {
      "provenance": []
    },
    "gpuClass": "standard",
    "kernelspec": {
      "display_name": "Python 3 (ipykernel)",
      "language": "python",
      "name": "python3"
    },
    "language_info": {
      "codemirror_mode": {
        "name": "ipython",
        "version": 3
      },
      "file_extension": ".py",
      "mimetype": "text/x-python",
      "name": "python",
      "nbconvert_exporter": "python",
      "pygments_lexer": "ipython3",
      "version": "3.9.9"
    }
  },
  "nbformat": 4,
  "nbformat_minor": 0
}