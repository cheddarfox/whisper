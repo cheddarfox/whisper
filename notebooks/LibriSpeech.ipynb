{
  "cells": [
    {
      "cell_type": "markdown",
      "source": [],
      "metadata": {
        "id": "JMQC9oL99c00"
      }
    },
    {
      "source": [
        "import locale\n",
        "\n",
        "def getpreferredencoding(do_setlocale = True):\n",
        "    return \"UTF-8\"\n",
        "locale.getpreferredencoding = getpreferredencoding\n",
        "\n",
        "!pip install git+https://github.com/openai/whisper.git\n",
        "!pip install jiwer\n",
        "!pip install torchaudio"
      ],
      "cell_type": "code",
      "metadata": {
        "colab": {
          "base_uri": "https://localhost:8080/"
        },
        "id": "5MVacXBb4IDa",
        "outputId": "dcedd3d6-a9c1-4d0c-fa97-54bd0515c26a"
      },
      "execution_count": 5,
      "outputs": [
        {
          "output_type": "stream",
          "name": "stdout",
          "text": [
            "Collecting git+https://github.com/openai/whisper.git\n",
            "  Cloning https://github.com/openai/whisper.git to /tmp/pip-req-build-m7ua34m_\n",
            "  Running command git clone --filter=blob:none --quiet https://github.com/openai/whisper.git /tmp/pip-req-build-m7ua34m_\n",
            "  Resolved https://github.com/openai/whisper.git to commit 173ff7dd1d9fb1c4fddea0d41d704cfefeb8908c\n",
            "  Installing build dependencies ... \u001b[?25l\u001b[?25hdone\n",
            "  Getting requirements to build wheel ... \u001b[?25l\u001b[?25hdone\n",
            "  Preparing metadata (pyproject.toml) ... \u001b[?25l\u001b[?25hdone\n",
            "Requirement already satisfied: numba in /usr/local/lib/python3.10/dist-packages (from openai-whisper==20240930) (0.60.0)\n",
            "Requirement already satisfied: numpy in /usr/local/lib/python3.10/dist-packages (from openai-whisper==20240930) (1.26.4)\n",
            "Requirement already satisfied: torch in /usr/local/lib/python3.10/dist-packages (from openai-whisper==20240930) (2.5.1+cu121)\n",
            "Requirement already satisfied: tqdm in /usr/local/lib/python3.10/dist-packages (from openai-whisper==20240930) (4.66.6)\n",
            "Requirement already satisfied: more-itertools in /usr/local/lib/python3.10/dist-packages (from openai-whisper==20240930) (10.5.0)\n",
            "Requirement already satisfied: tiktoken in /usr/local/lib/python3.10/dist-packages (from openai-whisper==20240930) (0.8.0)\n",
            "Requirement already satisfied: triton>=2.0.0 in /usr/local/lib/python3.10/dist-packages (from openai-whisper==20240930) (3.1.0)\n",
            "Requirement already satisfied: filelock in /usr/local/lib/python3.10/dist-packages (from triton>=2.0.0->openai-whisper==20240930) (3.16.1)\n",
            "Requirement already satisfied: llvmlite<0.44,>=0.43.0dev0 in /usr/local/lib/python3.10/dist-packages (from numba->openai-whisper==20240930) (0.43.0)\n",
            "Requirement already satisfied: regex>=2022.1.18 in /usr/local/lib/python3.10/dist-packages (from tiktoken->openai-whisper==20240930) (2024.9.11)\n",
            "Requirement already satisfied: requests>=2.26.0 in /usr/local/lib/python3.10/dist-packages (from tiktoken->openai-whisper==20240930) (2.32.3)\n",
            "Requirement already satisfied: typing-extensions>=4.8.0 in /usr/local/lib/python3.10/dist-packages (from torch->openai-whisper==20240930) (4.12.2)\n",
            "Requirement already satisfied: networkx in /usr/local/lib/python3.10/dist-packages (from torch->openai-whisper==20240930) (3.4.2)\n",
            "Requirement already satisfied: jinja2 in /usr/local/lib/python3.10/dist-packages (from torch->openai-whisper==20240930) (3.1.4)\n",
            "Requirement already satisfied: fsspec in /usr/local/lib/python3.10/dist-packages (from torch->openai-whisper==20240930) (2024.10.0)\n",
            "Requirement already satisfied: sympy==1.13.1 in /usr/local/lib/python3.10/dist-packages (from torch->openai-whisper==20240930) (1.13.1)\n",
            "Requirement already satisfied: mpmath<1.4,>=1.1.0 in /usr/local/lib/python3.10/dist-packages (from sympy==1.13.1->torch->openai-whisper==20240930) (1.3.0)\n",
            "Requirement already satisfied: charset-normalizer<4,>=2 in /usr/local/lib/python3.10/dist-packages (from requests>=2.26.0->tiktoken->openai-whisper==20240930) (3.4.0)\n",
            "Requirement already satisfied: idna<4,>=2.5 in /usr/local/lib/python3.10/dist-packages (from requests>=2.26.0->tiktoken->openai-whisper==20240930) (3.10)\n",
            "Requirement already satisfied: urllib3<3,>=1.21.1 in /usr/local/lib/python3.10/dist-packages (from requests>=2.26.0->tiktoken->openai-whisper==20240930) (2.2.3)\n",
            "Requirement already satisfied: certifi>=2017.4.17 in /usr/local/lib/python3.10/dist-packages (from requests>=2.26.0->tiktoken->openai-whisper==20240930) (2024.8.30)\n",
            "Requirement already satisfied: MarkupSafe>=2.0 in /usr/local/lib/python3.10/dist-packages (from jinja2->torch->openai-whisper==20240930) (3.0.2)\n",
            "Requirement already satisfied: jiwer in /usr/local/lib/python3.10/dist-packages (3.0.5)\n",
            "Requirement already satisfied: click<9.0.0,>=8.1.3 in /usr/local/lib/python3.10/dist-packages (from jiwer) (8.1.7)\n",
            "Requirement already satisfied: rapidfuzz<4,>=3 in /usr/local/lib/python3.10/dist-packages (from jiwer) (3.10.1)\n",
            "Requirement already satisfied: torchaudio in /usr/local/lib/python3.10/dist-packages (2.5.1+cu121)\n",
            "Requirement already satisfied: torch==2.5.1 in /usr/local/lib/python3.10/dist-packages (from torchaudio) (2.5.1+cu121)\n",
            "Requirement already satisfied: filelock in /usr/local/lib/python3.10/dist-packages (from torch==2.5.1->torchaudio) (3.16.1)\n",
            "Requirement already satisfied: typing-extensions>=4.8.0 in /usr/local/lib/python3.10/dist-packages (from torch==2.5.1->torchaudio) (4.12.2)\n",
            "Requirement already satisfied: networkx in /usr/local/lib/python3.10/dist-packages (from torch==2.5.1->torchaudio) (3.4.2)\n",
            "Requirement already satisfied: jinja2 in /usr/local/lib/python3.10/dist-packages (from torch==2.5.1->torchaudio) (3.1.4)\n",
            "Requirement already satisfied: fsspec in /usr/local/lib/python3.10/dist-packages (from torch==2.5.1->torchaudio) (2024.10.0)\n",
            "Requirement already satisfied: sympy==1.13.1 in /usr/local/lib/python3.10/dist-packages (from torch==2.5.1->torchaudio) (1.13.1)\n",
            "Requirement already satisfied: mpmath<1.4,>=1.1.0 in /usr/local/lib/python3.10/dist-packages (from sympy==1.13.1->torch==2.5.1->torchaudio) (1.3.0)\n",
            "Requirement already satisfied: MarkupSafe>=2.0 in /usr/local/lib/python3.10/dist-packages (from jinja2->torch==2.5.1->torchaudio) (3.0.2)\n"
          ]
        }
      ]
    },
    {
      "source": [
        "import whisper\n",
        "import torchaudio\n",
        "import torch"
      ],
      "cell_type": "code",
      "metadata": {
        "id": "soMy525f4KNk"
      },
      "execution_count": 12,
      "outputs": []
    },
    {
      "source": [
        "def transcribe_audio(audio_file_path, model_name=\"base.en\", device=\"cuda\" if torch.cuda.is_available() else \"cpu\"):\n",
        "    \"\"\"\n",
        "    Transcribes an audio file using the Whisper model.\n",
        "\n",
        "    Args:\n",
        "        audio_file_path (str): Path to the audio file.\n",
        "        model_name (str, optional): Name of the Whisper model to use. Defaults to \"base.en\".\n",
        "        device (str, optional): Device to run the model on (\"cuda\" or \"cpu\"). Defaults to \"cuda\" if available, else \"cpu\".\n",
        "\n",
        "    Returns:\n",
        "        str: The transcribed text.\n",
        "    \"\"\"\n",
        "\n",
        "    # Load the audio file\n",
        "    audio, sample_rate = torchaudio.load(audio_file_path)\n",
        "\n",
        "    # Check if audio has more than one channel and convert to mono if needed\n",
        "    if audio.shape[0] > 1:\n",
        "        audio = torch.mean(audio, dim=0, keepdim=True)\n",
        "\n",
        "    # Pad/trim and move to device\n",
        "    audio = whisper.pad_or_trim(audio.flatten()).to(device)\n",
        "    mel = whisper.log_mel_spectrogram(audio)\n",
        "\n",
        "    # Load the Whisper model\n",
        "    model = whisper.load_model(model_name, device=device)\n",
        "\n",
        "    # Set decoding options\n",
        "    options = whisper.DecodingOptions(language=\"en\", without_timestamps=True)\n",
        "\n",
        "    # Decode the audio\n",
        "    result = model.decode(mel, options)\n",
        "\n",
        "    # Access the transcribed text using the 'text' attribute\n",
        "    return result.text # Changed from result[\"text\"] to result.text"
      ],
      "cell_type": "code",
      "metadata": {
        "id": "_BbvtTqt46Iw"
      },
      "execution_count": 13,
      "outputs": []
    },
    {
      "source": [
        "# Block 4: Load and Process Audio\n",
        "import torch\n",
        "\n",
        "audio_file_path = \"WTFB1.mp4\"  # Set your audio file path here\n",
        "audio, sample_rate = torchaudio.load(audio_file_path)\n",
        "\n",
        "# Check if audio has more than one channel and convert to mono if needed\n",
        "if audio.shape[0] > 1:\n",
        "    audio = torch.mean(audio, dim=0, keepdim=True)\n",
        "\n",
        "# Define the device\n",
        "DEVICE = torch.device(\"cuda\" if torch.cuda.is_available() else \"cpu\") # Define DEVICE\n",
        "\n",
        "audio = whisper.pad_or_trim(audio.flatten()).to(DEVICE)\n",
        "mel = whisper.log_mel_spectrogram(audio)"
      ],
      "cell_type": "code",
      "metadata": {
        "id": "VibHHw-C-z3M"
      },
      "execution_count": 14,
      "outputs": []
    },
    {
      "source": [
        "transcript = transcribe_audio(audio_file_path, device=DEVICE)\n",
        "print(transcript)\n",
        "\n",
        "# Save the transcript to a file\n",
        "with open(\"output.txt\", \"w\") as f:\n",
        "    f.write(transcript)"
      ],
      "cell_type": "code",
      "metadata": {
        "colab": {
          "base_uri": "https://localhost:8080/"
        },
        "id": "qAdHwaGo4LrR",
        "outputId": "45fb025e-3cb0-48eb-e3c7-84c6478e5732"
      },
      "execution_count": 15,
      "outputs": [
        {
          "output_type": "stream",
          "name": "stdout",
          "text": [
            "You're a... ...an essential person that has power. And that's a less than than than this. Yes, you're so bad.\n"
          ]
        }
      ]
    },
    {
      "source": [
        "# Block 6: Print Result and Save to File\n",
        "# --- Get the transcription ---\n",
        "transcript = transcribe_audio(audio_file_path, device=DEVICE) # Call the function to get the result\n",
        "\n",
        "# --- Print and save the result ---\n",
        "print(transcript) # Use the returned transcript\n",
        "\n",
        "import os\n",
        "\n",
        "# Get audio file name and construct output file path\n",
        "audio_file_name, audio_file_ext = os.path.splitext(audio_file_path)  # Use the same variable\n",
        "output_file_path = audio_file_name + \"_transcribed.txt\"  # Add '_transcribed' to filename\n",
        "\n",
        "# Save the transcription to the file\n",
        "with open(output_file_path, \"w\") as f:\n",
        "    f.write(transcript)  # Save the transcript\n",
        "\n",
        "print(f\"Transcription saved to: {output_file_path}\")"
      ],
      "cell_type": "code",
      "metadata": {
        "id": "25Y0Zkba_4VF",
        "outputId": "555e685d-62a4-4db8-cd0f-957932b0e641",
        "colab": {
          "base_uri": "https://localhost:8080/"
        }
      },
      "execution_count": 16,
      "outputs": [
        {
          "output_type": "stream",
          "name": "stdout",
          "text": [
            "You're a... ...an essential person that has power. And that's a less than than than this. Yes, you're so bad.\n",
            "Transcription saved to: WTFB1_transcribed.txt\n"
          ]
        }
      ]
    }
  ],
  "metadata": {
    "accelerator": "GPU",
    "colab": {
      "provenance": []
    },
    "gpuClass": "standard",
    "kernelspec": {
      "display_name": "Python 3 (ipykernel)",
      "language": "python",
      "name": "python3"
    },
    "language_info": {
      "codemirror_mode": {
        "name": "ipython",
        "version": 3
      },
      "file_extension": ".py",
      "mimetype": "text/x-python",
      "name": "python",
      "nbconvert_exporter": "python",
      "pygments_lexer": "ipython3",
      "version": "3.9.9"
    }
  },
  "nbformat": 4,
  "nbformat_minor": 0
}